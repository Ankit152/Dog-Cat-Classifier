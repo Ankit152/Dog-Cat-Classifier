{
 "cells": [
  {
   "cell_type": "code",
   "execution_count": 1,
   "metadata": {},
   "outputs": [],
   "source": [
    "# importing the bunch of libraries\n",
    "from keras.models import Sequential\n",
    "from keras.layers import Conv2D, Dense, Flatten\n",
    "from keras.layers import MaxPooling2D, Dropout"
   ]
  },
  {
   "cell_type": "code",
   "execution_count": 4,
   "metadata": {},
   "outputs": [],
   "source": [
    "# defining the model\n",
    "model=Sequential()\n",
    "\n",
    "# first layer\n",
    "model.add(Conv2D(32,3,3,input_shape=(64,64,3),activation='relu'))\n",
    "model.add(MaxPooling2D(pool_size=(2,2)))\n",
    "model.add(Dropout(0.25))\n",
    "\n",
    "# second layer\n",
    "model.add(Conv2D(64,3,3,activation='relu'))\n",
    "model.add(MaxPooling2D(pool_size=(2,2)))\n",
    "model.add(Dropout(0.25))\n",
    "\n",
    "# flatten\n",
    "model.add(Flatten())\n",
    "\n",
    "# fully connected layers\n",
    "model.add(Dense(units=128,activation='relu'))\n",
    "model.add(Dense(units=1,activation='sigmoid'))\n",
    "\n",
    "# compilation of the model\n",
    "model.compile(optimizer='adam',loss='binary_crossentropy',metrics=['accuracy'])"
   ]
  },
  {
   "cell_type": "code",
   "execution_count": 5,
   "metadata": {},
   "outputs": [
    {
     "name": "stdout",
     "output_type": "stream",
     "text": [
      "Found 6000 images belonging to 2 classes.\n",
      "Found 600 images belonging to 2 classes.\n",
      "WARNING:tensorflow:From <ipython-input-5-94416c10a942>:24: Model.fit_generator (from tensorflow.python.keras.engine.training) is deprecated and will be removed in a future version.\n",
      "Instructions for updating:\n",
      "Please use Model.fit, which supports generators.\n",
      "Epoch 1/30\n",
      "128/128 [==============================] - 7s 57ms/step - loss: 0.6952 - accuracy: 0.5039 - val_loss: 0.6882 - val_accuracy: 0.5300\n",
      "Epoch 2/30\n",
      "128/128 [==============================] - 6s 47ms/step - loss: 0.6897 - accuracy: 0.5361 - val_loss: 0.6867 - val_accuracy: 0.5150\n",
      "Epoch 3/30\n",
      "128/128 [==============================] - 5s 41ms/step - loss: 0.6935 - accuracy: 0.5132 - val_loss: 0.6802 - val_accuracy: 0.6225\n",
      "Epoch 4/30\n",
      "128/128 [==============================] - 5s 37ms/step - loss: 0.6937 - accuracy: 0.5107 - val_loss: 0.6890 - val_accuracy: 0.5800\n",
      "Epoch 5/30\n",
      "128/128 [==============================] - 4s 35ms/step - loss: 0.6896 - accuracy: 0.5303 - val_loss: 0.6842 - val_accuracy: 0.5525\n",
      "Epoch 6/30\n",
      "128/128 [==============================] - 4s 33ms/step - loss: 0.6824 - accuracy: 0.5620 - val_loss: 0.6646 - val_accuracy: 0.6175\n",
      "Epoch 7/30\n",
      "128/128 [==============================] - 4s 32ms/step - loss: 0.6751 - accuracy: 0.5737 - val_loss: 0.6476 - val_accuracy: 0.6275\n",
      "Epoch 8/30\n",
      "128/128 [==============================] - 4s 31ms/step - loss: 0.6727 - accuracy: 0.5928 - val_loss: 0.6412 - val_accuracy: 0.6500\n",
      "Epoch 9/30\n",
      "128/128 [==============================] - 4s 30ms/step - loss: 0.6733 - accuracy: 0.5786 - val_loss: 0.6418 - val_accuracy: 0.6175\n",
      "Epoch 10/30\n",
      "128/128 [==============================] - 4s 31ms/step - loss: 0.6743 - accuracy: 0.5801 - val_loss: 0.6364 - val_accuracy: 0.6325\n",
      "Epoch 11/30\n",
      "128/128 [==============================] - 4s 30ms/step - loss: 0.6657 - accuracy: 0.5815 - val_loss: 0.6462 - val_accuracy: 0.6350\n",
      "Epoch 12/30\n",
      "128/128 [==============================] - 4s 30ms/step - loss: 0.6607 - accuracy: 0.5913 - val_loss: 0.6412 - val_accuracy: 0.6400\n",
      "Epoch 13/30\n",
      "128/128 [==============================] - 4s 30ms/step - loss: 0.6664 - accuracy: 0.5854 - val_loss: 0.6228 - val_accuracy: 0.6550\n",
      "Epoch 14/30\n",
      "128/128 [==============================] - 4s 30ms/step - loss: 0.6561 - accuracy: 0.5967 - val_loss: 0.6220 - val_accuracy: 0.6350\n",
      "Epoch 15/30\n",
      "128/128 [==============================] - 4s 30ms/step - loss: 0.6520 - accuracy: 0.6030 - val_loss: 0.6058 - val_accuracy: 0.6800\n",
      "Epoch 16/30\n",
      "128/128 [==============================] - 4s 29ms/step - loss: 0.6531 - accuracy: 0.6108 - val_loss: 0.6403 - val_accuracy: 0.6425\n",
      "Epoch 17/30\n",
      "128/128 [==============================] - 4s 29ms/step - loss: 0.6497 - accuracy: 0.6104 - val_loss: 0.6186 - val_accuracy: 0.6450\n",
      "Epoch 18/30\n",
      "128/128 [==============================] - 4s 29ms/step - loss: 0.6638 - accuracy: 0.6011 - val_loss: 0.6212 - val_accuracy: 0.6725\n",
      "Epoch 19/30\n",
      "128/128 [==============================] - 4s 29ms/step - loss: 0.6522 - accuracy: 0.6182 - val_loss: 0.6344 - val_accuracy: 0.6200\n",
      "Epoch 20/30\n",
      "128/128 [==============================] - 4s 29ms/step - loss: 0.6483 - accuracy: 0.6182 - val_loss: 0.6254 - val_accuracy: 0.6375\n",
      "Epoch 21/30\n",
      "128/128 [==============================] - 4s 30ms/step - loss: 0.6518 - accuracy: 0.6133 - val_loss: 0.6280 - val_accuracy: 0.6025\n",
      "Epoch 22/30\n",
      "128/128 [==============================] - 4s 30ms/step - loss: 0.6425 - accuracy: 0.6191 - val_loss: 0.6249 - val_accuracy: 0.6425\n",
      "Epoch 23/30\n",
      "128/128 [==============================] - 4s 29ms/step - loss: 0.6519 - accuracy: 0.6016 - val_loss: 0.6247 - val_accuracy: 0.6450\n",
      "Epoch 24/30\n",
      "128/128 [==============================] - 4s 29ms/step - loss: 0.6513 - accuracy: 0.6196 - val_loss: 0.6240 - val_accuracy: 0.6325\n",
      "Epoch 25/30\n",
      "128/128 [==============================] - 4s 29ms/step - loss: 0.6407 - accuracy: 0.6362 - val_loss: 0.6131 - val_accuracy: 0.6725\n",
      "Epoch 26/30\n",
      "128/128 [==============================] - 4s 30ms/step - loss: 0.6399 - accuracy: 0.6357 - val_loss: 0.6050 - val_accuracy: 0.6825\n",
      "Epoch 27/30\n",
      "128/128 [==============================] - 4s 29ms/step - loss: 0.6307 - accuracy: 0.6523 - val_loss: 0.6119 - val_accuracy: 0.6625\n",
      "Epoch 28/30\n",
      "128/128 [==============================] - 4s 29ms/step - loss: 0.6367 - accuracy: 0.6284 - val_loss: 0.6268 - val_accuracy: 0.6025\n",
      "Epoch 29/30\n",
      "128/128 [==============================] - 4s 30ms/step - loss: 0.6392 - accuracy: 0.6362 - val_loss: 0.6170 - val_accuracy: 0.6525\n",
      "Epoch 30/30\n",
      "128/128 [==============================] - 4s 30ms/step - loss: 0.6255 - accuracy: 0.6543 - val_loss: 0.5914 - val_accuracy: 0.6550\n"
     ]
    },
    {
     "data": {
      "text/plain": [
       "<tensorflow.python.keras.callbacks.History at 0x20d24721708>"
      ]
     },
     "execution_count": 5,
     "metadata": {},
     "output_type": "execute_result"
    }
   ],
   "source": [
    "# fittig the above model to the images\n",
    "from keras.preprocessing.image import ImageDataGenerator\n",
    "train_datagen = ImageDataGenerator(rescale = 1./255,\n",
    "                                   shear_range = 0.2,\n",
    "                                   zoom_range = 0.2,\n",
    "                                   horizontal_flip = True)\n",
    "\n",
    "test_datagen = ImageDataGenerator(rescale = 1./255)\n",
    "\n",
    "training_set = train_datagen.flow_from_directory('data/train',\n",
    "                                                 target_size = (64, 64),\n",
    "                                                 batch_size = 16,\n",
    "                                                 class_mode = 'binary')\n",
    "\n",
    "test_set = test_datagen.flow_from_directory('data/val',\n",
    "                                            target_size = (64, 64),\n",
    "                                            batch_size = 16,\n",
    "                                            class_mode = 'binary')\n",
    "\n",
    "model.fit_generator(training_set, \n",
    "                         steps_per_epoch = 128,\n",
    "                         epochs = 30,\n",
    "                         validation_data = test_set,\n",
    "                         validation_steps = 25)"
   ]
  },
  {
   "cell_type": "code",
   "execution_count": null,
   "metadata": {},
   "outputs": [],
   "source": []
  }
 ],
 "metadata": {
  "kernelspec": {
   "display_name": "Python 3",
   "language": "python",
   "name": "python3"
  },
  "language_info": {
   "codemirror_mode": {
    "name": "ipython",
    "version": 3
   },
   "file_extension": ".py",
   "mimetype": "text/x-python",
   "name": "python",
   "nbconvert_exporter": "python",
   "pygments_lexer": "ipython3",
   "version": "3.7.9"
  }
 },
 "nbformat": 4,
 "nbformat_minor": 4
}
