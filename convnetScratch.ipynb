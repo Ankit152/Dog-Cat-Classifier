{
 "cells": [
  {
   "cell_type": "code",
   "execution_count": 1,
   "metadata": {},
   "outputs": [],
   "source": [
    "# importing the bunch of libraries\n",
    "from keras.models import Sequential\n",
    "from keras.layers import Conv2D, Dense, Flatten\n",
    "from keras.layers import MaxPooling2D"
   ]
  },
  {
   "cell_type": "code",
   "execution_count": 2,
   "metadata": {},
   "outputs": [],
   "source": [
    "# defining the model\n",
    "model=Sequential()\n",
    "\n",
    "model.add(Conv2D(32,(3,3),input_shape=(200,200,3),padding=\"same\",activation='relu',kernel_initializer='he_uniform'))\n",
    "model.add(MaxPooling2D(pool_size=(2,2)))\n",
    "model.add(Conv2D(64,(3,3),padding=\"same\",activation='relu',kernel_initializer='he_uniform'))\n",
    "model.add(MaxPooling2D(pool_size=(2,2)))\n",
    "model.add(Conv2D(128,(3,3),padding=\"same\",activation='relu',kernel_initializer='he_uniform'))\n",
    "model.add(MaxPooling2D(pool_size=(2,2)))\n",
    "\n",
    "# flatten\n",
    "model.add(Flatten())\n",
    "# fully connected layers\n",
    "model.add(Dense(units=128,activation='relu'))\n",
    "model.add(Dense(units=1,activation='sigmoid'))\n",
    "\n",
    "# compilation of the model\n",
    "model.compile(optimizer='adam',loss='binary_crossentropy',metrics=['accuracy'])"
   ]
  },
  {
   "cell_type": "code",
   "execution_count": 5,
   "metadata": {},
   "outputs": [
    {
     "name": "stdout",
     "output_type": "stream",
     "text": [
      "Found 6000 images belonging to 2 classes.\n",
      "Found 600 images belonging to 2 classes.\n",
      "Epoch 1/20\n",
      "128/128 [==============================] - 15s 119ms/step - loss: 0.6578 - accuracy: 0.6147 - val_loss: 0.5748 - val_accuracy: 0.7063\n",
      "Epoch 2/20\n",
      "128/128 [==============================] - 15s 118ms/step - loss: 0.6509 - accuracy: 0.6162 - val_loss: 0.5960 - val_accuracy: 0.7063\n",
      "Epoch 3/20\n",
      "128/128 [==============================] - 15s 118ms/step - loss: 0.6324 - accuracy: 0.6392 - val_loss: 0.5865 - val_accuracy: 0.6812\n",
      "Epoch 4/20\n",
      "128/128 [==============================] - 15s 118ms/step - loss: 0.6073 - accuracy: 0.6729 - val_loss: 0.5547 - val_accuracy: 0.7063\n",
      "Epoch 5/20\n",
      "128/128 [==============================] - 15s 118ms/step - loss: 0.5976 - accuracy: 0.6880 - val_loss: 0.5332 - val_accuracy: 0.7156\n",
      "Epoch 6/20\n",
      "128/128 [==============================] - 15s 118ms/step - loss: 0.5905 - accuracy: 0.6851 - val_loss: 0.5680 - val_accuracy: 0.6938\n",
      "Epoch 7/20\n",
      "128/128 [==============================] - 15s 118ms/step - loss: 0.5481 - accuracy: 0.7178 - val_loss: 0.5572 - val_accuracy: 0.7281\n",
      "Epoch 8/20\n",
      "128/128 [==============================] - 15s 118ms/step - loss: 0.5286 - accuracy: 0.7271 - val_loss: 0.5677 - val_accuracy: 0.7344\n",
      "Epoch 9/20\n",
      "128/128 [==============================] - 15s 118ms/step - loss: 0.5343 - accuracy: 0.7329 - val_loss: 0.5200 - val_accuracy: 0.7375\n",
      "Epoch 10/20\n",
      "128/128 [==============================] - 15s 118ms/step - loss: 0.5321 - accuracy: 0.7295 - val_loss: 0.5273 - val_accuracy: 0.7500\n",
      "Epoch 11/20\n",
      "128/128 [==============================] - 15s 119ms/step - loss: 0.5140 - accuracy: 0.7446 - val_loss: 0.5607 - val_accuracy: 0.6844\n",
      "Epoch 12/20\n",
      "128/128 [==============================] - 15s 118ms/step - loss: 0.4816 - accuracy: 0.7754 - val_loss: 0.4896 - val_accuracy: 0.7531\n",
      "Epoch 13/20\n",
      "128/128 [==============================] - 15s 118ms/step - loss: 0.5213 - accuracy: 0.7427 - val_loss: 0.5426 - val_accuracy: 0.7437\n",
      "Epoch 14/20\n",
      "128/128 [==============================] - 15s 118ms/step - loss: 0.4800 - accuracy: 0.7676 - val_loss: 0.4367 - val_accuracy: 0.7937\n",
      "Epoch 15/20\n",
      "128/128 [==============================] - 15s 119ms/step - loss: 0.4709 - accuracy: 0.7739 - val_loss: 0.4605 - val_accuracy: 0.7906\n",
      "Epoch 16/20\n",
      "128/128 [==============================] - 15s 118ms/step - loss: 0.4787 - accuracy: 0.7710 - val_loss: 0.5348 - val_accuracy: 0.7344\n",
      "Epoch 17/20\n",
      "128/128 [==============================] - 22s 173ms/step - loss: 0.4426 - accuracy: 0.7910 - val_loss: 0.4941 - val_accuracy: 0.7781\n",
      "Epoch 18/20\n",
      "128/128 [==============================] - 21s 162ms/step - loss: 0.4513 - accuracy: 0.7900 - val_loss: 0.4499 - val_accuracy: 0.8125\n",
      "Epoch 19/20\n",
      "128/128 [==============================] - 18s 141ms/step - loss: 0.4321 - accuracy: 0.7969 - val_loss: 0.5057 - val_accuracy: 0.7844\n",
      "Epoch 20/20\n",
      "128/128 [==============================] - 17s 135ms/step - loss: 0.4390 - accuracy: 0.7812 - val_loss: 0.4918 - val_accuracy: 0.7906\n"
     ]
    },
    {
     "data": {
      "text/plain": [
       "<tensorflow.python.keras.callbacks.History at 0x1d8986c7f08>"
      ]
     },
     "execution_count": 5,
     "metadata": {},
     "output_type": "execute_result"
    }
   ],
   "source": [
    "# fittig the above model to the images\n",
    "from keras.preprocessing.image import ImageDataGenerator\n",
    "train_datagen = ImageDataGenerator(rescale = 1./255,\n",
    "                                   shear_range = 0.2,\n",
    "                                   zoom_range = 0.2,\n",
    "                                   horizontal_flip = True)\n",
    "\n",
    "test_datagen = ImageDataGenerator(rescale = 1./255)\n",
    "\n",
    "training_set = train_datagen.flow_from_directory('data/train',\n",
    "                                                 target_size = (200,200),\n",
    "                                                 batch_size = 16,\n",
    "                                                 class_mode = 'binary')\n",
    "\n",
    "test_set = test_datagen.flow_from_directory('data/val',\n",
    "                                            target_size = (200,200),\n",
    "                                            batch_size = 16,\n",
    "                                            class_mode = 'binary')\n",
    "\n",
    "model.fit_generator(training_set, \n",
    "                         steps_per_epoch = 128,\n",
    "                         epochs = 20,\n",
    "                         validation_data = test_set,\n",
    "                         validation_steps = 20)"
   ]
  },
  {
   "cell_type": "code",
   "execution_count": null,
   "metadata": {},
   "outputs": [],
   "source": []
  }
 ],
 "metadata": {
  "kernelspec": {
   "display_name": "Python 3",
   "language": "python",
   "name": "python3"
  },
  "language_info": {
   "codemirror_mode": {
    "name": "ipython",
    "version": 3
   },
   "file_extension": ".py",
   "mimetype": "text/x-python",
   "name": "python",
   "nbconvert_exporter": "python",
   "pygments_lexer": "ipython3",
   "version": "3.7.9"
  }
 },
 "nbformat": 4,
 "nbformat_minor": 4
}
