{
 "cells": [
  {
   "cell_type": "code",
   "execution_count": null,
   "metadata": {
    "colab": {
     "base_uri": "https://localhost:8080/"
    },
    "id": "6dhPLIPzpb5M",
    "outputId": "4fcc4000-2da0-4129-ee62-18f20300e9dc"
   },
   "outputs": [
    {
     "name": "stdout",
     "output_type": "stream",
     "text": [
      "Collecting vit-keras\n",
      "  Downloading https://files.pythonhosted.org/packages/b7/78/0f428e11d777fb05117091f9bbdd7223e998309571466bf95a97021e8f3f/vit_keras-0.0.14-py3-none-any.whl\n",
      "Collecting validators\n",
      "  Downloading https://files.pythonhosted.org/packages/db/2f/7fed3ee94ad665ad2c1de87f858f10a7785251ff75b4fd47987888d07ef1/validators-0.18.2-py3-none-any.whl\n",
      "Requirement already satisfied: scipy in /usr/local/lib/python3.7/dist-packages (from vit-keras) (1.4.1)\n",
      "Collecting tensorflow-addons\n",
      "\u001b[?25l  Downloading https://files.pythonhosted.org/packages/74/e3/56d2fe76f0bb7c88ed9b2a6a557e25e83e252aec08f13de34369cd850a0b/tensorflow_addons-0.12.1-cp37-cp37m-manylinux2010_x86_64.whl (703kB)\n",
      "\u001b[K     |████████████████████████████████| 706kB 24.7MB/s \n",
      "\u001b[?25hRequirement already satisfied: six>=1.4.0 in /usr/local/lib/python3.7/dist-packages (from validators->vit-keras) (1.15.0)\n",
      "Requirement already satisfied: decorator>=3.4.0 in /usr/local/lib/python3.7/dist-packages (from validators->vit-keras) (4.4.2)\n",
      "Requirement already satisfied: numpy>=1.13.3 in /usr/local/lib/python3.7/dist-packages (from scipy->vit-keras) (1.19.5)\n",
      "Requirement already satisfied: typeguard>=2.7 in /usr/local/lib/python3.7/dist-packages (from tensorflow-addons->vit-keras) (2.7.1)\n",
      "Installing collected packages: validators, tensorflow-addons, vit-keras\n",
      "Successfully installed tensorflow-addons-0.12.1 validators-0.18.2 vit-keras-0.0.14\n"
     ]
    }
   ],
   "source": [
    "!pip install vit-keras"
   ]
  },
  {
   "cell_type": "code",
   "execution_count": null,
   "metadata": {
    "colab": {
     "base_uri": "https://localhost:8080/"
    },
    "id": "tL7NIS48pmn5",
    "outputId": "3a266d24-2c54-4289-a6c5-507ef5f0b842"
   },
   "outputs": [
    {
     "name": "stdout",
     "output_type": "stream",
     "text": [
      "Sat Apr 17 07:06:01 2021       \n",
      "+-----------------------------------------------------------------------------+\n",
      "| NVIDIA-SMI 460.67       Driver Version: 460.32.03    CUDA Version: 11.2     |\n",
      "|-------------------------------+----------------------+----------------------+\n",
      "| GPU  Name        Persistence-M| Bus-Id        Disp.A | Volatile Uncorr. ECC |\n",
      "| Fan  Temp  Perf  Pwr:Usage/Cap|         Memory-Usage | GPU-Util  Compute M. |\n",
      "|                               |                      |               MIG M. |\n",
      "|===============================+======================+======================|\n",
      "|   0  Tesla T4            Off  | 00000000:00:04.0 Off |                    0 |\n",
      "| N/A   61C    P8    10W /  70W |      0MiB / 15109MiB |      0%      Default |\n",
      "|                               |                      |                  N/A |\n",
      "+-------------------------------+----------------------+----------------------+\n",
      "                                                                               \n",
      "+-----------------------------------------------------------------------------+\n",
      "| Processes:                                                                  |\n",
      "|  GPU   GI   CI        PID   Type   Process name                  GPU Memory |\n",
      "|        ID   ID                                                   Usage      |\n",
      "|=============================================================================|\n",
      "|  No running processes found                                                 |\n",
      "+-----------------------------------------------------------------------------+\n"
     ]
    }
   ],
   "source": [
    "!nvidia-smi"
   ]
  },
  {
   "cell_type": "code",
   "execution_count": null,
   "metadata": {
    "colab": {
     "base_uri": "https://localhost:8080/"
    },
    "id": "n96UuDMupt6x",
    "outputId": "f6f59d48-1d21-4cac-fbd1-48046fcd4a48"
   },
   "outputs": [
    {
     "name": "stdout",
     "output_type": "stream",
     "text": [
      "Mounted at /content/drive/\n"
     ]
    }
   ],
   "source": [
    "from google.colab import drive\n",
    "drive.mount(\"/content/drive/\")"
   ]
  },
  {
   "cell_type": "code",
   "execution_count": null,
   "metadata": {
    "colab": {
     "base_uri": "https://localhost:8080/"
    },
    "id": "I4W2oNi6qTFb",
    "outputId": "6a52258b-c0a5-4701-fc3f-6fe60473c5d0"
   },
   "outputs": [
    {
     "name": "stdout",
     "output_type": "stream",
     "text": [
      "cat  dog\n"
     ]
    }
   ],
   "source": [
    "img_size=[256,256]\n",
    "train_dir='/content/drive/My Drive/data/train'\n",
    "test_dir='/content/drive/My Drive/data/val'\n",
    "!ls '/content/drive/My Drive/data/train'"
   ]
  },
  {
   "cell_type": "code",
   "execution_count": null,
   "metadata": {
    "id": "eFowzJgUrUrp"
   },
   "outputs": [],
   "source": [
    "from vit_keras import vit, utils\n",
    "from keras.models import Model\n",
    "from keras.layers import Dense, Dropout, Flatten\n",
    "import matplotlib.pyplot as plt\n",
    "from keras.preprocessing.image import ImageDataGenerator\n",
    "from keras.models import Sequential,Model\n",
    "from keras.optimizers import Adam"
   ]
  },
  {
   "cell_type": "code",
   "execution_count": null,
   "metadata": {
    "colab": {
     "base_uri": "https://localhost:8080/"
    },
    "id": "k4FFPZVMq15-",
    "outputId": "650afb97-581f-494b-8983-740c599ce395"
   },
   "outputs": [
    {
     "name": "stderr",
     "output_type": "stream",
     "text": [
      "/usr/local/lib/python3.7/dist-packages/vit_keras/utils.py:79: UserWarning: Resizing position embeddings from 24 to 16\n",
      "  UserWarning,\n"
     ]
    }
   ],
   "source": [
    "image_size = 256\n",
    "base_model = vit.vit_b16(\n",
    "    image_size=image_size,\n",
    "    activation='relu',\n",
    "    pretrained=True,\n",
    "    include_top=False,\n",
    "    pretrained_top=False,\n",
    ")"
   ]
  },
  {
   "cell_type": "code",
   "execution_count": null,
   "metadata": {
    "colab": {
     "base_uri": "https://localhost:8080/"
    },
    "id": "YVvM_mO7r4Ja",
    "outputId": "63d6c4f6-6a41-4a20-832e-4545005186e0"
   },
   "outputs": [
    {
     "name": "stdout",
     "output_type": "stream",
     "text": [
      "Model: \"vit-b16\"\n",
      "_________________________________________________________________\n",
      "Layer (type)                 Output Shape              Param #   \n",
      "=================================================================\n",
      "input_2 (InputLayer)         [(None, 256, 256, 3)]     0         \n",
      "_________________________________________________________________\n",
      "embedding (Conv2D)           (None, 16, 16, 768)       590592    \n",
      "_________________________________________________________________\n",
      "reshape_1 (Reshape)          (None, 256, 768)          0         \n",
      "_________________________________________________________________\n",
      "class_token (ClassToken)     (None, 257, 768)          768       \n",
      "_________________________________________________________________\n",
      "Transformer/posembed_input ( (None, 257, 768)          197376    \n",
      "_________________________________________________________________\n",
      "Transformer/encoderblock_0 ( ((None, 257, 768), (None, 7087872   \n",
      "_________________________________________________________________\n",
      "Transformer/encoderblock_1 ( ((None, 257, 768), (None, 7087872   \n",
      "_________________________________________________________________\n",
      "Transformer/encoderblock_2 ( ((None, 257, 768), (None, 7087872   \n",
      "_________________________________________________________________\n",
      "Transformer/encoderblock_3 ( ((None, 257, 768), (None, 7087872   \n",
      "_________________________________________________________________\n",
      "Transformer/encoderblock_4 ( ((None, 257, 768), (None, 7087872   \n",
      "_________________________________________________________________\n",
      "Transformer/encoderblock_5 ( ((None, 257, 768), (None, 7087872   \n",
      "_________________________________________________________________\n",
      "Transformer/encoderblock_6 ( ((None, 257, 768), (None, 7087872   \n",
      "_________________________________________________________________\n",
      "Transformer/encoderblock_7 ( ((None, 257, 768), (None, 7087872   \n",
      "_________________________________________________________________\n",
      "Transformer/encoderblock_8 ( ((None, 257, 768), (None, 7087872   \n",
      "_________________________________________________________________\n",
      "Transformer/encoderblock_9 ( ((None, 257, 768), (None, 7087872   \n",
      "_________________________________________________________________\n",
      "Transformer/encoderblock_10  ((None, 257, 768), (None, 7087872   \n",
      "_________________________________________________________________\n",
      "Transformer/encoderblock_11  ((None, 257, 768), (None, 7087872   \n",
      "_________________________________________________________________\n",
      "Transformer/encoder_norm (La (None, 257, 768)          1536      \n",
      "_________________________________________________________________\n",
      "ExtractToken (Lambda)        (None, 768)               0         \n",
      "=================================================================\n",
      "Total params: 85,844,736\n",
      "Trainable params: 85,844,736\n",
      "Non-trainable params: 0\n",
      "_________________________________________________________________\n",
      "None\n"
     ]
    }
   ],
   "source": [
    "print(base_model.summary())"
   ]
  },
  {
   "cell_type": "code",
   "execution_count": null,
   "metadata": {
    "colab": {
     "base_uri": "https://localhost:8080/"
    },
    "id": "Fg8AgoTosCRU",
    "outputId": "03f7030e-baea-4791-de6b-1c9c40f4bfcc"
   },
   "outputs": [
    {
     "name": "stdout",
     "output_type": "stream",
     "text": [
      "Base model layers are freezed!!!\n"
     ]
    }
   ],
   "source": [
    "for layer in base_model.layers:\n",
    "    layer.trainable=False\n",
    "\n",
    "print(\"Base model layers are freezed!!!\")"
   ]
  },
  {
   "cell_type": "code",
   "execution_count": null,
   "metadata": {
    "colab": {
     "base_uri": "https://localhost:8080/"
    },
    "id": "EE3vwpv3s2oC",
    "outputId": "56c06297-22f0-492c-c427-b5eb481d5b06"
   },
   "outputs": [
    {
     "name": "stdout",
     "output_type": "stream",
     "text": [
      "Model: \"vit-b16\"\n",
      "_________________________________________________________________\n",
      "Layer (type)                 Output Shape              Param #   \n",
      "=================================================================\n",
      "input_2 (InputLayer)         [(None, 256, 256, 3)]     0         \n",
      "_________________________________________________________________\n",
      "embedding (Conv2D)           (None, 16, 16, 768)       590592    \n",
      "_________________________________________________________________\n",
      "reshape_1 (Reshape)          (None, 256, 768)          0         \n",
      "_________________________________________________________________\n",
      "class_token (ClassToken)     (None, 257, 768)          768       \n",
      "_________________________________________________________________\n",
      "Transformer/posembed_input ( (None, 257, 768)          197376    \n",
      "_________________________________________________________________\n",
      "Transformer/encoderblock_0 ( ((None, 257, 768), (None, 7087872   \n",
      "_________________________________________________________________\n",
      "Transformer/encoderblock_1 ( ((None, 257, 768), (None, 7087872   \n",
      "_________________________________________________________________\n",
      "Transformer/encoderblock_2 ( ((None, 257, 768), (None, 7087872   \n",
      "_________________________________________________________________\n",
      "Transformer/encoderblock_3 ( ((None, 257, 768), (None, 7087872   \n",
      "_________________________________________________________________\n",
      "Transformer/encoderblock_4 ( ((None, 257, 768), (None, 7087872   \n",
      "_________________________________________________________________\n",
      "Transformer/encoderblock_5 ( ((None, 257, 768), (None, 7087872   \n",
      "_________________________________________________________________\n",
      "Transformer/encoderblock_6 ( ((None, 257, 768), (None, 7087872   \n",
      "_________________________________________________________________\n",
      "Transformer/encoderblock_7 ( ((None, 257, 768), (None, 7087872   \n",
      "_________________________________________________________________\n",
      "Transformer/encoderblock_8 ( ((None, 257, 768), (None, 7087872   \n",
      "_________________________________________________________________\n",
      "Transformer/encoderblock_9 ( ((None, 257, 768), (None, 7087872   \n",
      "_________________________________________________________________\n",
      "Transformer/encoderblock_10  ((None, 257, 768), (None, 7087872   \n",
      "_________________________________________________________________\n",
      "Transformer/encoderblock_11  ((None, 257, 768), (None, 7087872   \n",
      "_________________________________________________________________\n",
      "Transformer/encoder_norm (La (None, 257, 768)          1536      \n",
      "_________________________________________________________________\n",
      "ExtractToken (Lambda)        (None, 768)               0         \n",
      "=================================================================\n",
      "Total params: 85,844,736\n",
      "Trainable params: 0\n",
      "Non-trainable params: 85,844,736\n",
      "_________________________________________________________________\n",
      "None\n"
     ]
    }
   ],
   "source": [
    "print(base_model.summary())"
   ]
  },
  {
   "cell_type": "code",
   "execution_count": null,
   "metadata": {
    "id": "EEcN2WmKsWje"
   },
   "outputs": [],
   "source": [
    "x = Dropout(0.2)(base_model.output)\n",
    "x = Flatten()(x)\n",
    "x = Dense(2,'softmax')(x)\n",
    "\n",
    "model = Model(inputs=base_model.input,outputs=x)"
   ]
  },
  {
   "cell_type": "code",
   "execution_count": null,
   "metadata": {
    "colab": {
     "base_uri": "https://localhost:8080/"
    },
    "id": "GHvvmeFXtA2Y",
    "outputId": "a6d6182f-5799-4630-95e2-cba1a7595a11"
   },
   "outputs": [
    {
     "name": "stdout",
     "output_type": "stream",
     "text": [
      "Model: \"model\"\n",
      "_________________________________________________________________\n",
      "Layer (type)                 Output Shape              Param #   \n",
      "=================================================================\n",
      "input_2 (InputLayer)         [(None, 256, 256, 3)]     0         \n",
      "_________________________________________________________________\n",
      "embedding (Conv2D)           (None, 16, 16, 768)       590592    \n",
      "_________________________________________________________________\n",
      "reshape_1 (Reshape)          (None, 256, 768)          0         \n",
      "_________________________________________________________________\n",
      "class_token (ClassToken)     (None, 257, 768)          768       \n",
      "_________________________________________________________________\n",
      "Transformer/posembed_input ( (None, 257, 768)          197376    \n",
      "_________________________________________________________________\n",
      "Transformer/encoderblock_0 ( ((None, 257, 768), (None, 7087872   \n",
      "_________________________________________________________________\n",
      "Transformer/encoderblock_1 ( ((None, 257, 768), (None, 7087872   \n",
      "_________________________________________________________________\n",
      "Transformer/encoderblock_2 ( ((None, 257, 768), (None, 7087872   \n",
      "_________________________________________________________________\n",
      "Transformer/encoderblock_3 ( ((None, 257, 768), (None, 7087872   \n",
      "_________________________________________________________________\n",
      "Transformer/encoderblock_4 ( ((None, 257, 768), (None, 7087872   \n",
      "_________________________________________________________________\n",
      "Transformer/encoderblock_5 ( ((None, 257, 768), (None, 7087872   \n",
      "_________________________________________________________________\n",
      "Transformer/encoderblock_6 ( ((None, 257, 768), (None, 7087872   \n",
      "_________________________________________________________________\n",
      "Transformer/encoderblock_7 ( ((None, 257, 768), (None, 7087872   \n",
      "_________________________________________________________________\n",
      "Transformer/encoderblock_8 ( ((None, 257, 768), (None, 7087872   \n",
      "_________________________________________________________________\n",
      "Transformer/encoderblock_9 ( ((None, 257, 768), (None, 7087872   \n",
      "_________________________________________________________________\n",
      "Transformer/encoderblock_10  ((None, 257, 768), (None, 7087872   \n",
      "_________________________________________________________________\n",
      "Transformer/encoderblock_11  ((None, 257, 768), (None, 7087872   \n",
      "_________________________________________________________________\n",
      "Transformer/encoder_norm (La (None, 257, 768)          1536      \n",
      "_________________________________________________________________\n",
      "ExtractToken (Lambda)        (None, 768)               0         \n",
      "_________________________________________________________________\n",
      "dropout_2 (Dropout)          (None, 768)               0         \n",
      "_________________________________________________________________\n",
      "flatten_1 (Flatten)          (None, 768)               0         \n",
      "_________________________________________________________________\n",
      "dense_1 (Dense)              (None, 2)                 1538      \n",
      "=================================================================\n",
      "Total params: 85,846,274\n",
      "Trainable params: 1,538\n",
      "Non-trainable params: 85,844,736\n",
      "_________________________________________________________________\n",
      "Final Model is:\n",
      " None\n"
     ]
    }
   ],
   "source": [
    "print(\"Final Model is:\\n\",model.summary())"
   ]
  },
  {
   "cell_type": "code",
   "execution_count": null,
   "metadata": {
    "id": "YB4y5GWhtMxM"
   },
   "outputs": [],
   "source": [
    "opt=Adam(lr=0.001, beta_1=0.9, beta_2=0.999, decay=0.0, amsgrad=False)"
   ]
  },
  {
   "cell_type": "code",
   "execution_count": null,
   "metadata": {
    "id": "QDvOab4VtSIt"
   },
   "outputs": [],
   "source": [
    "model.compile(loss='categorical_crossentropy',optimizer=opt,metrics=['accuracy'])"
   ]
  },
  {
   "cell_type": "code",
   "execution_count": null,
   "metadata": {
    "colab": {
     "base_uri": "https://localhost:8080/"
    },
    "id": "i0Lnlw5wtgkw",
    "outputId": "36e15126-5c43-4e88-8093-c485390b6570"
   },
   "outputs": [
    {
     "name": "stdout",
     "output_type": "stream",
     "text": [
      "Found 6001 images belonging to 2 classes.\n",
      "Found 600 images belonging to 2 classes.\n"
     ]
    }
   ],
   "source": [
    "RANDOM_SEED=123\n",
    "train_datagen = ImageDataGenerator(\n",
    "    width_shift_range=0.4,\n",
    "    height_shift_range=0.4,\n",
    "    rescale=1.0/255,\n",
    "    horizontal_flip=True\n",
    ")\n",
    "\n",
    "test_datagen = ImageDataGenerator(\n",
    "    rescale=1.0/255,\n",
    ")\n",
    "\n",
    "\n",
    "train_generator = train_datagen.flow_from_directory(\n",
    "    train_dir,\n",
    "    color_mode='rgb',\n",
    "    target_size=img_size,\n",
    "    batch_size=64,\n",
    "    class_mode='categorical',\n",
    "    seed=RANDOM_SEED\n",
    ")\n",
    "\n",
    "\n",
    "validation_generator = test_datagen.flow_from_directory(\n",
    "    test_dir,\n",
    "    color_mode='rgb',\n",
    "    target_size=img_size,\n",
    "    batch_size=64,\n",
    "    class_mode='categorical',\n",
    "    seed=RANDOM_SEED\n",
    ")"
   ]
  },
  {
   "cell_type": "code",
   "execution_count": null,
   "metadata": {
    "colab": {
     "base_uri": "https://localhost:8080/"
    },
    "id": "aX4QwTplt_pG",
    "outputId": "23f71764-6b91-4857-a8ae-4df7d4edf205"
   },
   "outputs": [
    {
     "name": "stdout",
     "output_type": "stream",
     "text": [
      "Epoch 1/15\n",
      "94/94 [==============================] - 1467s 15s/step - loss: 0.2849 - accuracy: 0.8684 - val_loss: 0.0203 - val_accuracy: 0.9917\n",
      "Epoch 2/15\n",
      "94/94 [==============================] - 154s 2s/step - loss: 0.0594 - accuracy: 0.9777 - val_loss: 0.0189 - val_accuracy: 0.9917\n",
      "Epoch 3/15\n",
      "94/94 [==============================] - 151s 2s/step - loss: 0.0647 - accuracy: 0.9750 - val_loss: 0.0161 - val_accuracy: 0.9917\n",
      "Epoch 4/15\n",
      "94/94 [==============================] - 152s 2s/step - loss: 0.0445 - accuracy: 0.9838 - val_loss: 0.0156 - val_accuracy: 0.9917\n",
      "Epoch 5/15\n",
      "94/94 [==============================] - 151s 2s/step - loss: 0.0442 - accuracy: 0.9833 - val_loss: 0.0153 - val_accuracy: 0.9917\n",
      "Epoch 6/15\n",
      "94/94 [==============================] - 151s 2s/step - loss: 0.0428 - accuracy: 0.9832 - val_loss: 0.0152 - val_accuracy: 0.9917\n",
      "Epoch 7/15\n",
      "94/94 [==============================] - 150s 2s/step - loss: 0.0516 - accuracy: 0.9818 - val_loss: 0.0143 - val_accuracy: 0.9917\n",
      "Epoch 8/15\n",
      "94/94 [==============================] - 150s 2s/step - loss: 0.0418 - accuracy: 0.9845 - val_loss: 0.0118 - val_accuracy: 0.9950\n",
      "Epoch 9/15\n",
      "94/94 [==============================] - 150s 2s/step - loss: 0.0457 - accuracy: 0.9846 - val_loss: 0.0125 - val_accuracy: 0.9933\n",
      "Epoch 10/15\n",
      "94/94 [==============================] - 150s 2s/step - loss: 0.0464 - accuracy: 0.9837 - val_loss: 0.0116 - val_accuracy: 0.9933\n",
      "Epoch 11/15\n",
      "94/94 [==============================] - 150s 2s/step - loss: 0.0390 - accuracy: 0.9834 - val_loss: 0.0102 - val_accuracy: 0.9950\n",
      "Epoch 12/15\n",
      "94/94 [==============================] - 150s 2s/step - loss: 0.0389 - accuracy: 0.9863 - val_loss: 0.0107 - val_accuracy: 0.9917\n",
      "Epoch 13/15\n",
      "94/94 [==============================] - 150s 2s/step - loss: 0.0474 - accuracy: 0.9808 - val_loss: 0.0117 - val_accuracy: 0.9950\n",
      "Epoch 14/15\n",
      "94/94 [==============================] - 150s 2s/step - loss: 0.0470 - accuracy: 0.9810 - val_loss: 0.0092 - val_accuracy: 0.9967\n",
      "Epoch 15/15\n",
      "94/94 [==============================] - 150s 2s/step - loss: 0.0348 - accuracy: 0.9855 - val_loss: 0.0106 - val_accuracy: 0.9967\n",
      "Total time taken:  3578.518768787384\n"
     ]
    }
   ],
   "source": [
    "import time\n",
    "start = time.time()\n",
    "hist = model.fit(\n",
    "    train_generator,\n",
    "    epochs=15,\n",
    "    validation_data = validation_generator\n",
    ")\n",
    "\n",
    "end = time.time()\n",
    "print(\"Total time taken: \",end-start)"
   ]
  },
  {
   "cell_type": "code",
   "execution_count": null,
   "metadata": {
    "colab": {
     "base_uri": "https://localhost:8080/",
     "height": 458
    },
    "id": "WfvvdhHwwN--",
    "outputId": "061192ff-4020-4c1b-c854-66ab3ffefe7a"
   },
   "outputs": [
    {
     "data": {
      "image/png": "[encoded data removed]",
      "text/plain": [
       "<Figure size 720x504 with 1 Axes>"
      ]
     },
     "metadata": {
      "needs_background": "light",
      "tags": []
     },
     "output_type": "display_data"
    }
   ],
   "source": [
    "# plotting the figure for accuracy\n",
    "plt.figure(figsize=(10,7))\n",
    "plt.plot(hist.history['accuracy'])\n",
    "plt.plot(hist.history['val_accuracy'])\n",
    "plt.title('Model Accuracy Vision Transformer')\n",
    "plt.ylabel('Accuracy')\n",
    "plt.xlabel('Epoch')\n",
    "plt.legend(['train', 'val'], loc='lower right')\n",
    "plt.show()"
   ]
  },
  {
   "cell_type": "code",
   "execution_count": null,
   "metadata": {
    "colab": {
     "base_uri": "https://localhost:8080/",
     "height": 458
    },
    "id": "c64aiKA3wRkI",
    "outputId": "49a874dc-9a7d-419a-b404-4e46327228b1"
   },
   "outputs": [
    {
     "data": {
      "image/png": "[encoded data removed]",
      "text/plain": [
       "<Figure size 720x504 with 1 Axes>"
      ]
     },
     "metadata": {
      "needs_background": "light",
      "tags": []
     },
     "output_type": "display_data"
    }
   ],
   "source": [
    "# plotting the figure for loss\n",
    "plt.figure(figsize=(10,7))\n",
    "plt.plot(hist.history['loss'])\n",
    "plt.plot(hist.history['val_loss'])\n",
    "plt.title('Model Loss Vision Transformer')\n",
    "plt.ylabel('Loss')\n",
    "plt.xlabel('Epoch')\n",
    "plt.legend(['train', 'val'], loc='upper right')\n",
    "plt.show()"
   ]
  },
  {
   "cell_type": "code",
   "execution_count": null,
   "metadata": {
    "id": "HAh_55MdBROc"
   },
   "outputs": [],
   "source": [
    "model.save('dogCat_vit.h5')"
   ]
  }
 ],
 "metadata": {
  "accelerator": "GPU",
  "colab": {
   "name": "dog_cat_vit.ipynb",
   "provenance": []
  },
  "kernelspec": {
   "display_name": "Python 3",
   "language": "python",
   "name": "python3"
  },
  "language_info": {
   "codemirror_mode": {
    "name": "ipython",
    "version": 3
   },
   "file_extension": ".py",
   "mimetype": "text/x-python",
   "name": "python",
   "nbconvert_exporter": "python",
   "pygments_lexer": "ipython3",
   "version": "3.7.9"
  }
 },
 "nbformat": 4,
 "nbformat_minor": 1
}
